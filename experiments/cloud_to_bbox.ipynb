{
 "cells": [
  {
   "cell_type": "code",
   "execution_count": 1,
   "id": "8b8e4e7a",
   "metadata": {},
   "outputs": [
    {
     "name": "stdout",
     "output_type": "stream",
     "text": [
      "Jupyter environment detected. Enabling Open3D WebVisualizer.\n",
      "[Open3D INFO] WebRTC GUI backend enabled.\n",
      "[Open3D INFO] WebRTCWindowSystem: HTTP handshake server disabled.\n"
     ]
    }
   ],
   "source": [
    "import open3d as o3d"
   ]
  },
  {
   "cell_type": "code",
   "execution_count": null,
   "id": "b863a7a5",
   "metadata": {},
   "outputs": [],
   "source": [
    "    sample_ply_data = o3d.data.PLYPointCloud()\n",
    "    pcd = o3d.io.read_point_cloud(sample_ply_data.path)\n",
    "    # Flip it, otherwise the pointcloud will be upside down.\n",
    "    pcd.transform([[1, 0, 0, 0], [0, -1, 0, 0], [0, 0, -1, 0], [0, 0, 0, 1]])\n",
    "    print(pcd)\n",
    "    axis_aligned_bounding_box = pcd.get_axis_aligned_bounding_box()\n",
    "    axis_aligned_bounding_box.color = (1, 0, 0)\n",
    "    oriented_bounding_box = pcd.get_oriented_bounding_box()\n",
    "    oriented_bounding_box.color = (0, 1, 0)\n",
    "    print(\n",
    "        \"Displaying axis_aligned_bounding_box in red and oriented bounding box in green ...\"\n",
    "    )\n",
    "    o3d.visualization.draw(\n",
    "        [pcd, axis_aligned_bounding_box, oriented_bounding_box])"
   ]
  },
  {
   "cell_type": "code",
   "execution_count": null,
   "id": "34bba2a7",
   "metadata": {},
   "outputs": [],
   "source": []
  }
 ],
 "metadata": {
  "kernelspec": {
   "display_name": "Python 3 (ipykernel)",
   "language": "python",
   "name": "python3"
  },
  "language_info": {
   "codemirror_mode": {
    "name": "ipython",
    "version": 3
   },
   "file_extension": ".py",
   "mimetype": "text/x-python",
   "name": "python",
   "nbconvert_exporter": "python",
   "pygments_lexer": "ipython3",
   "version": "3.7.0"
  }
 },
 "nbformat": 4,
 "nbformat_minor": 5
}
